{
 "cells": [
  {
   "cell_type": "markdown",
   "metadata": {},
   "source": [
    "# Script para renombrar ficheros en un directorio\n",
    "\n",
    "A menudo tenemos un montón de ficheros desordenados en algún directorio y nos gustaría renombrarlos todos a la vez, siguiendo algún patrón; un ejemplo pueden ser las fotos de un viaje. \n",
    "\n",
    "Queremos que, en lugar de llamarse algo así como \"IMG001234.png\", nuestras fotos tengan nombres del tipo \"2016_03_Viaje_Noruega_001.png\". Vamos a crear un script de Python que haga esta tarea por nosotros, dándole como información el directorio donde están nuestros ficheros y el nuevo nombre que queremos que tengan (patrón)."
   ]
  },
  {
   "cell_type": "markdown",
   "metadata": {},
   "source": [
    "## Empecemos por el principio\n",
    "Lo primero que veremos en la mayoría de scripts de Python (como en cualquier otro lenguaje) es la importación de las librerías que nos hacen falta.\n",
    "En nuestro caso, necesitamos trabajar con directorios, ficheros, rutas, etc., por lo que necesitaremos el módulo `os` de Python.\n",
    "En Python hay dos formas de importar módulos:\n",
    "+ Importar clases o funciones sueltas dentro de un módulo:  `from _ import _`\n",
    "+ Importar todo un módulo:  `import _`\n",
    "\n",
    "Veamos dos ejemplos (para listar los ficheros de un directorio):"
   ]
  },
  {
   "cell_type": "code",
   "execution_count": null,
   "metadata": {
    "collapsed": false
   },
   "outputs": [],
   "source": [
    "from os import listdir\n",
    "listdir('.')"
   ]
  },
  {
   "cell_type": "code",
   "execution_count": null,
   "metadata": {
    "collapsed": false
   },
   "outputs": [],
   "source": [
    "import os\n",
    "os.listdir('.')"
   ]
  },
  {
   "cell_type": "markdown",
   "metadata": {},
   "source": [
    "Cuándo usar uno u otro dependerá de las necesidades que tengamos en nuestro script. Como en este caso vamos a necesitar usar varias de las funciones del módulo `os`, será más cómoda la segunda opción.\n",
    "\n",
    "## Demos forma a nuestro script\n",
    "Con el anterior ejemplo hemos visto cómo listar los ficheros del directorio en el que nos encontramos (cuya ruta relativa se indica con '.'). Ahora vamos a recorrer dicha lista y vamos a separar el nombre del fichero y su extensión."
   ]
  },
  {
   "cell_type": "code",
   "execution_count": null,
   "metadata": {
    "collapsed": false,
    "scrolled": true
   },
   "outputs": [],
   "source": [
    "import os\n",
    "\n",
    "for file in os.listdir('.'):\n",
    "    file_name, file_ext = os.path.splitext(file)\n",
    "    print(\"Nombre:\", file_name, \"Extensión:\", file_ext)"
   ]
  },
  {
   "cell_type": "markdown",
   "metadata": {},
   "source": [
    "Con este código hemos visto algunas cosas interesantes de Python:\n",
    "+ **Sintaxis del bucle for:** \"por cada elemento `file` de la lista `os.listdir('.')`\".\n",
    "+ **Tuplas:** listas no mutables, se escriben entre paréntesis. En este caso, nos permiten que la función `os.path.splitext()` nos devuelva dos valores: en realidad nos está devolviendo una tupla, pero hemos simplificado la sintaxis.\n",
    "+ **La función print** puede recibir más de un parámetro. También podríamos haber utilizado la función `format()` para pasarle a print un texto ya formateado (lo usaremos más adelante).\n",
    "+ **Las cadenas de texto en Python** pueden escribirse tanto entre comillas simples ' ' como dobles \" \".\n",
    "+ Aunque las variables en Python pueden llamarse de (casi) cualquier manera, **la guía de estilo (PEP 8) recomienda usar el *snake case***, es decir, si hay varias palabras, poner _ entre ellas."
   ]
  },
  {
   "cell_type": "markdown",
   "metadata": {},
   "source": [
    "## Parámetros necesarios\n",
    "Ahora que ya somos capaces de recorrer la lista de ficheros y separarlos en nombre y extensión, nos falta poco para poder modificarlos. \n",
    "Antes de dar ese paso, deberíamos proporcionarle a nuestro programa dos datos:\n",
    "+ La ruta donde estén los ficheros que queremos renombrar \n",
    "+ El patrón del nuevo nombre que vamos a darles (al que añadiremos un número al final).\n",
    "\n",
    "De momento, vamos a hacerlo mediante dos variables que más tarde sustituiremos. "
   ]
  },
  {
   "cell_type": "code",
   "execution_count": null,
   "metadata": {
    "collapsed": false
   },
   "outputs": [],
   "source": [
    "import os\n",
    "\n",
    "files_path = '/home/irene/Desktop/carpeta_prueba'\n",
    "\n",
    "# Definimos el patrón del nombre dejando {} donde queremos que vaya el número \n",
    "name_pattern = '2016_12_Viaje_Noruega_{}'\n",
    "\n",
    "# Iniciamos el contador para que el primer fichero tenga el número 1\n",
    "count = 1\n",
    "\n",
    "for file in os.listdir(files_path):\n",
    "    file_name, file_ext = os.path.splitext(file)\n",
    "    \n",
    "    # Construimos el nuevo nombre de fichero con la función format\n",
    "    new_file = name_pattern.format(count) + file_ext\n",
    "    \n",
    "    # Incrementamos el contador\n",
    "    count += 1\n",
    "    \n",
    "    print(\"\\nNombre antiguo:\", file, \"\\nNombre nuevo:\", new_file)\n",
    "    "
   ]
  },
  {
   "cell_type": "markdown",
   "metadata": {},
   "source": [
    "Qué cosas nuevas hemos aprendido:\n",
    "+ En Python, los comentarios empiezan con #\n",
    "+ Con la función *format* podemos tomar un *string* y sustituir parámetros, indicando su posición mediante {}"
   ]
  },
  {
   "cell_type": "markdown",
   "metadata": {},
   "source": [
    "## ¡Por fin renombramos!\n",
    "Vamos a añadir la instrucción que nos permite renombrar ficheros. Tendremos que tener en cuenta que necesita la ruta completa al fichero, no solamente los nombres antiguo y nuevo:"
   ]
  },
  {
   "cell_type": "code",
   "execution_count": null,
   "metadata": {
    "collapsed": false,
    "scrolled": true
   },
   "outputs": [],
   "source": [
    "import os\n",
    "\n",
    "files_path = '/home/irene/Desktop/carpeta_prueba'\n",
    "\n",
    "# Definimos el patrón del nombre dejando {} donde queremos que vaya el número \n",
    "name_pattern = '2016_12_Viaje_Noruega_{}'\n",
    "\n",
    "# Iniciamos el contador para que el primer fichero tenga el número 1\n",
    "count = 1\n",
    "\n",
    "for file in os.listdir(files_path):\n",
    "    file_name, file_ext = os.path.splitext(file)\n",
    "    \n",
    "    # Construimos el nuevo nombre de fichero con la función format\n",
    "    new_file = name_pattern.format(count) + file_ext\n",
    "    \n",
    "    # Incrementamos el contador\n",
    "    count += 1\n",
    "    \n",
    "    # Construimos la ruta completa al fichero\n",
    "    old_file_path = os.path.join(files_path, file)\n",
    "    # En este caso estamos dejando los ficheros en el mismo directorio, \n",
    "    # pero podríamos moverlos a otro\n",
    "    new_file_path = os.path.join(files_path, new_file)\n",
    "\n",
    "    # Renombramos\n",
    "    os.replace(old_file_path, new_file_path)\n",
    "    \n",
    "    print(\"\\nNombre antiguo:\", file, \"\\nNombre nuevo:\", new_file)"
   ]
  },
  {
   "cell_type": "markdown",
   "metadata": {},
   "source": [
    "¿Ya hemos terminado? Bueno, tenemos resultados interesantes, pero todavía quedan muchos detalles que podemos pulir para que nuestro script funcione mejor y sea más usable...\n"
   ]
  },
  {
   "cell_type": "markdown",
   "metadata": {},
   "source": [
    "## Mejoremos nuestro script\n",
    "### Renombrar en orden\n",
    "Hay varios aspectos que podemos mejorar, pero quizá lo primero y más importante es que los ficheros se renombren en orden. Si nos hemos fijado, la función `os.listdir()` no nos devuelve una lista ordenada, sino que recorre el directorio que le proporcionemos en un orden arbitrario. Para evitar este problema, podemos utilizar la función `sorted()`, que nos devuelve una lista ordenada."
   ]
  },
  {
   "cell_type": "markdown",
   "metadata": {},
   "source": [
    "Sustituiremos:"
   ]
  },
  {
   "cell_type": "code",
   "execution_count": null,
   "metadata": {
    "collapsed": false
   },
   "outputs": [],
   "source": [
    "for file in os.listdir(files_path):"
   ]
  },
  {
   "cell_type": "markdown",
   "metadata": {},
   "source": [
    "Por:"
   ]
  },
  {
   "cell_type": "code",
   "execution_count": null,
   "metadata": {
    "collapsed": true
   },
   "outputs": [],
   "source": [
    "for file in sorted(os.listdir(files_path)):"
   ]
  },
  {
   "cell_type": "markdown",
   "metadata": {},
   "source": [
    "Resultado:"
   ]
  },
  {
   "cell_type": "code",
   "execution_count": null,
   "metadata": {
    "collapsed": false
   },
   "outputs": [],
   "source": [
    "import os\n",
    "\n",
    "files_path = '/home/irene/Desktop/carpeta_prueba'\n",
    "\n",
    "# Definimos el patrón del nombre dejando {} donde queremos que vaya el número \n",
    "name_pattern = '2016_12_Viaje_Noruega_{}'\n",
    "\n",
    "# Iniciamos el contador para que el primer fichero tenga el número 1\n",
    "count = 1\n",
    "\n",
    "for file in sorted(os.listdir(files_path)):\n",
    "    file_name, file_ext = os.path.splitext(file)\n",
    "    \n",
    "    # Construimos el nuevo nombre de fichero con la función format\n",
    "    new_file = name_pattern.format(count) + file_ext\n",
    "    \n",
    "    # Incrementamos el contador\n",
    "    count += 1\n",
    "    \n",
    "    # Construimos la ruta completa al fichero\n",
    "    old_file_path = os.path.join(files_path, file)\n",
    "    # En este caso estamos dejando los ficheros en el mismo directorio, \n",
    "    # pero podríamos moverlos a otro\n",
    "    new_file_path = os.path.join(files_path, new_file)\n",
    "\n",
    "    # Renombramos\n",
    "    os.replace(old_file_path, new_file_path)"
   ]
  },
  {
   "cell_type": "markdown",
   "metadata": {},
   "source": [
    "### Números precedidos de ceros\n",
    "Otra cuestión que mejoraría nuestro script es que, a la hora de numerar los ficheros, tengamos en cuenta cuántos hay para numerar con \"001\" en lugar de con \"1\" directamente y así conseguir que estén ordenados correctamente una vez renombrados.\n",
    "Para ello, primero tendremos que convertir nuestros enteros a *string* y, después, rellenar con ceros por la izquierda. Podemos hacerlo con la función `rjust`, a la que debemos indicar la longitud del *string* que queremos y el carácter con el que rellenar:"
   ]
  },
  {
   "cell_type": "code",
   "execution_count": null,
   "metadata": {
    "collapsed": false
   },
   "outputs": [],
   "source": [
    "count = 1\n",
    "str(count).rjust(3, '0')"
   ]
  },
  {
   "cell_type": "markdown",
   "metadata": {},
   "source": [
    "Esto está muy bien, pero ¿cómo sabemos esta longitud? Si conocemos de antemano cuántos ficheros tenemos en nuestro directorio, podríamos *hardcodear* este parámetro. Pero lo ideal es calcularlo a partir del listado de ficheros que ya tenemos.\n",
    "Con la función `len()` podemos saber la longitud de una lista; sólo nos queda averiguar el número de dígitos. Por ejemplo:\n",
    "+ Con logaritmos en base 10 (tendremos que importar el módulo `math`)\n",
    "+ Convirtiendo a *string* y, de nuevo, calculando la longitud\n",
    "\n",
    "Veamos:"
   ]
  },
  {
   "cell_type": "code",
   "execution_count": null,
   "metadata": {
    "collapsed": false
   },
   "outputs": [],
   "source": [
    "files_path = '/home/irene/Desktop/carpeta_prueba'\n",
    "\n",
    "# Número de ficheros\n",
    "files_in_dir = os.listdir(files_path)\n",
    "num_files = len(files_in_dir)\n",
    "print (\"Número total de ficheros: \", num_files)\n",
    "\n",
    "# Cálculo de dígitos\n",
    "# Opción 1: logaritmo y redondeo hacia arriba\n",
    "from math import log10, ceil\n",
    "num_digits = ceil(log10(num_files)) \n",
    "print (\"Número de digitos (logaritmo): \", num_digits)\n",
    "\n",
    "# Opción 2: longitud de un string\n",
    "num_digits = len(str(num_files))\n",
    "print (\"Número de digitos (string): \", num_digits)"
   ]
  },
  {
   "cell_type": "markdown",
   "metadata": {},
   "source": [
    "¡Cómo molan las matemáticas y la programación! :)\n",
    "Con esto, elijamos la opción que más nos guste y completemos nuestro código. Yo, como soy muy fan de las matemáticas, me quedo con los logaritmos.\n",
    "\n",
    "Lo que sí deberíamos tener en cuenta en nuestro código es no llamar a la función `os.listdir()` más de una vez. Almacenamos la lista devuelta en una variable y luego la utilizamos tanto para calcular su longitud como para recorrerla y hacer nuestro renombrado:"
   ]
  },
  {
   "cell_type": "code",
   "execution_count": null,
   "metadata": {
    "collapsed": false
   },
   "outputs": [],
   "source": [
    "import os\n",
    "from math import log10, ceil\n",
    "\n",
    "files_path = '/home/irene/Desktop/carpeta_prueba'\n",
    "\n",
    "# Definimos el patrón del nombre dejando {} donde queremos que vaya el número \n",
    "name_pattern = '2016_12_Viaje_Noruega_{}'\n",
    "\n",
    "# Obtenemos el listado de ficheros en el directorio indicado\n",
    "files_in_dir = os.listdir(files_path)\n",
    "\n",
    "# Obtenemos el número de dígitos a partir del número de ficheros\n",
    "# - no os asuste encadenar funciones ;) -\n",
    "num_digits = ceil(log10(len(files_in_dir))) \n",
    "\n",
    "# Iniciamos el contador para que el primer fichero tenga el número 1\n",
    "count = 1\n",
    "\n",
    "for file in sorted(files_in_dir):\n",
    "    file_name, file_ext = os.path.splitext(file)\n",
    "    \n",
    "    # Convertimos el contador al string precedido de los ceros necesarios\n",
    "    filled_count = str(count).rjust(num_digits, '0')\n",
    "    \n",
    "    # Construimos el nuevo nombre de fichero con la función format\n",
    "    new_file = name_pattern.format(filled_count) + file_ext\n",
    "    \n",
    "    # Incrementamos el contador\n",
    "    count += 1\n",
    "    \n",
    "    # Construimos la ruta completa al fichero\n",
    "    old_file_path = os.path.join(files_path, file)\n",
    "    # En este caso estamos dejando los ficheros en el mismo directorio, \n",
    "    # pero podríamos moverlos a otro\n",
    "    new_file_path = os.path.join(files_path, new_file)\n",
    "\n",
    "    # Renombramos\n",
    "    os.replace(old_file_path, new_file_path)"
   ]
  },
  {
   "cell_type": "markdown",
   "metadata": {},
   "source": [
    "### Contemos de la forma \"pythonista\"\n",
    "Estoy segura de que a más de una le ha parecido un poco \"fea\" la manera de programar el contador... Ahora que ya sabemos algo de Python, intuimos que tiene que haber otra forma más elegante, más \"compacta\".\n",
    "\n",
    "¡Pues sí, la hay! Y se llama `enumerate()`. \n",
    "Veamos cómo funciona: "
   ]
  },
  {
   "cell_type": "code",
   "execution_count": null,
   "metadata": {
    "collapsed": false
   },
   "outputs": [],
   "source": [
    "lst = ['a', 'b', 'c']\n",
    "for count, elem in enumerate(lst):\n",
    "    print(count, elem)"
   ]
  },
  {
   "cell_type": "markdown",
   "metadata": {},
   "source": [
    "En Python, el bucle `for` puede iterar sobre varias variables (en realidad es una forma de escribir una tupla sin paréntesis). Con esto y con la función `enumerate()` podemos iterar a la vez sobre un contador y sobre el elemento de la lista en cuestión.\n",
    "\n",
    "Obviamente, podemos implementar esto mismo de muchas otras formas. Probablemente, para las que programen en otros lenguajes, les parecerá mucho más claro algo así:"
   ]
  },
  {
   "cell_type": "code",
   "execution_count": null,
   "metadata": {
    "collapsed": false
   },
   "outputs": [],
   "source": [
    "lst = ['a', 'b', 'c']\n",
    "for i in range(0, len(lst)):\n",
    "    print(i, lst[i])"
   ]
  },
  {
   "cell_type": "markdown",
   "metadata": {},
   "source": [
    "Como siempre, esto ya es a gusto de cada programadora. Yo, personalmente, estoy encantada con la sintaxis de Python y recomiendo adaptarse al estilo de cada lenguaje de programación.\n",
    "\n",
    "Para incorporar el anterior código a nuestro script, lo único que tendremos que tener en cuenta es que Python empezará a contar desde 0. Si queremos empezar a renombrar desde 1, tendremos que sumar."
   ]
  },
  {
   "cell_type": "code",
   "execution_count": null,
   "metadata": {
    "collapsed": false
   },
   "outputs": [],
   "source": [
    "import os\n",
    "from math import log10, ceil\n",
    "\n",
    "files_path = '/home/irene/Desktop/carpeta_prueba'\n",
    "\n",
    "# Definimos el patrón del nombre dejando {} donde queremos que vaya el número \n",
    "name_pattern = '2016_12_Viaje_Noruega_{}'\n",
    "\n",
    "# Obtenemos el listado de ficheros en el directorio indicado\n",
    "files_in_dir = os.listdir(files_path)\n",
    "\n",
    "# Obtenemos el número de dígitos a partir del número de ficheros\n",
    "num_digits = ceil(log10(len(files_in_dir))) \n",
    "\n",
    "for count, file in enumerate(sorted(files_in_dir)):\n",
    "    file_name, file_ext = os.path.splitext(file)\n",
    "    \n",
    "    # Convertimos el contador al string precedido de los ceros necesarios\n",
    "    # Le añadimos 1 porque enumerate empieza a contar desde 0\n",
    "    filled_count = str(count + 1).rjust(num_digits, '0')\n",
    "    \n",
    "    # Construimos el nuevo nombre de fichero con la función format\n",
    "    new_file = name_pattern.format(filled_count) + file_ext   \n",
    "    \n",
    "    # Construimos la ruta completa al fichero\n",
    "    old_file_path = os.path.join(files_path, file)\n",
    "    # En este caso estamos dejando los ficheros en el mismo directorio, \n",
    "    # pero podríamos moverlos a otro\n",
    "    new_file_path = os.path.join(files_path, new_file)\n",
    "\n",
    "    # Renombramos\n",
    "    os.replace(old_file_path, new_file_path)"
   ]
  },
  {
   "cell_type": "markdown",
   "metadata": {},
   "source": [
    "#### Hablando de compacto y \"pythonista\"\n",
    "Si hay algo que me requetencanta de Python son las \"list comprehension\", una forma de generar listas en una sola línea... \n",
    "\n",
    "Aunque en este caso no necesitamos utilizarlas, todo curso introductorio debería al menos nombrarlas. Os propongo como ejemplo que nos implementemos la función `enumerate()` de forma \"casera\" - y de paso vemos cómo se definen funciones en Python).\n",
    "\n",
    "Lo podemos hacer a partir de la forma \"típica\" de recorrer una lista que hemos visto antes. "
   ]
  },
  {
   "cell_type": "code",
   "execution_count": null,
   "metadata": {
    "collapsed": false
   },
   "outputs": [],
   "source": [
    "# Definimos la nueva función\n",
    "def my_enumerate(lst):\n",
    "    # ¡Cómo molan las list comprehension!\n",
    "    return [(i, lst[i]) for i in range(0, len(lst))]\n",
    "\n",
    "# Utilizamos la nueva función\n",
    "lst = ['a', 'b', 'c']\n",
    "for count, elem in my_enumerate(lst):\n",
    "    print(count, elem)"
   ]
  },
  {
   "cell_type": "markdown",
   "metadata": {},
   "source": [
    "### \"Des-hardcodeemos\" nuestro script\n",
    "Para que nuestro script sea el más molón del mundo, habrá que dotarlo de cierta usabilidad y que nos pueda servir para renombrar ficheros en distintos directorios y con distintos nombres (y que no tengamos que modificar el código para ello). \n",
    "\n",
    "Vamos a añadir que podamos proporcionarle la ruta al directorio y el nuevo patrón de renombrado como parámetros:\n",
    "+ En la llamada al script\n",
    "+ Menú por consola"
   ]
  },
  {
   "cell_type": "markdown",
   "metadata": {},
   "source": [
    "#### Menú por consola\n",
    "Empecemos por la forma más sencilla. Para hacer un menú por consola lo único que necesitamos aprender es la función `input()` (o `raw_input()` si utilizamos Python2).\n",
    "\n",
    "Tan fácil como:"
   ]
  },
  {
   "cell_type": "code",
   "execution_count": null,
   "metadata": {
    "collapsed": false
   },
   "outputs": [],
   "source": [
    "import os\n",
    "from math import log10, ceil\n",
    "\n",
    "print('Escribe la ruta al directorio donde están los ficheros:')\n",
    "files_path = input()\n",
    "print('Escribe el nuevo nombre de los ficheros poniendo {} donde vayan los números:')\n",
    "name = input()\n",
    "\n",
    "# Si el patrón del nombre proporcionado no contiene {}, se lo añadimos al final \n",
    "name_pattern = name if '{}' in name else name + '_{}'\n",
    "\n",
    "# Obtenemos el listado de ficheros en el directorio indicado\n",
    "files_in_dir = os.listdir(files_path)\n",
    "\n",
    "# Obtenemos el número de dígitos a partir del número de ficheros\n",
    "num_digits = ceil(log10(len(files_in_dir))) \n",
    "\n",
    "for count, file in enumerate(sorted(files_in_dir)):\n",
    "    file_name, file_ext = os.path.splitext(file)\n",
    "    \n",
    "    # Convertimos el contador al string precedido de los ceros necesarios\n",
    "    # Le añadimos 1 porque enumerate empieza a contar desde 0\n",
    "    filled_count = str(count + 1).rjust(num_digits, '0')\n",
    "    \n",
    "    # Construimos el nuevo nombre de fichero con la función format\n",
    "    new_file = name_pattern.format(filled_count) + file_ext   \n",
    "    \n",
    "    # Construimos la ruta completa al fichero\n",
    "    old_file_path = os.path.join(files_path, file)\n",
    "    # En este caso estamos dejando los ficheros en el mismo directorio, \n",
    "    # pero podríamos moverlos a otro\n",
    "    new_file_path = os.path.join(files_path, new_file)\n",
    "\n",
    "    # Renombramos\n",
    "    os.replace(old_file_path, new_file_path)"
   ]
  },
  {
   "cell_type": "markdown",
   "metadata": {},
   "source": [
    "¿Qué pasa si, cuando el usuario escribe el nuevo nombre de los ficheros, no añade {} en ninguna parte?\n",
    "\n",
    "En ese caso, tal y como hemos programado el script, la función `format()` no añadirá ningún número al nombre y todos nuestros ficheros se llamarán igual. Entonces, al intentar renombrar a un nombre que ya existe, puede pasar que nos dé un error o que sobreescribamos el fichero anterior (dependiendo del sistema operativo). \n",
    "\n",
    "Para solucionar esto, si nos fijamos, hemos incluido en nuestro script la siguiente línea:"
   ]
  },
  {
   "cell_type": "code",
   "execution_count": null,
   "metadata": {
    "collapsed": false
   },
   "outputs": [],
   "source": [
    "# Si el patrón del nombre proporcionado no contiene {}, se lo añadimos al final\n",
    "name_pattern = name if '{}' in name else name + '_{}'"
   ]
  },
  {
   "cell_type": "markdown",
   "metadata": {},
   "source": [
    "Esta es la forma \"pythonista\" de hacer algo equivalente al operador ternario. Y es bastante más legible...\n",
    "\n",
    "\"La variable `name_pattern` valdrá `name` si hay '{}' dentro de `name`, o, en caso contrario, valdrá `name` seguido de '\\_{}'\"."
   ]
  },
  {
   "cell_type": "markdown",
   "metadata": {},
   "source": [
    "#### Argumentos en la llamada\n",
    "Hay distintas formas de \"procesar\" los datos que pasamos como argumentos al ejecutar nuestro script. Una de ellas, es utilizando el módulo `argparse` que, además, nos facilita varias tareas como indicar si nuestros argumentos son obligatorios o no, de qué tipo tienen que ser, qué texto de ayuda hay que proporcionar al usuario si no sabe cómo ejecutar nuestro script, etc.\n",
    "\n",
    "Por ejemplo, en nuestro caso, queremos parsear o procesar dos argumentos: uno correspondiente a la ruta (*path*) y otro al nuevo nombre de los ficheros (*name*). En el siguiente código vemos cómo podríamos configurar nuestro *parseador* de argumentos con los parámetros básicos:"
   ]
  },
  {
   "cell_type": "code",
   "execution_count": null,
   "metadata": {
    "collapsed": true
   },
   "outputs": [],
   "source": [
    "import argparse\n",
    "\n",
    "# Creamos un parseador para los argumentos de entrada\n",
    "parser = argparse.ArgumentParser(description='Renombrado de ficheros')\n",
    "parser.add_argument('-p', '--path',\n",
    "                    required=True,\n",
    "                    type=str,\n",
    "                    help='Ruta al directorio donde se encuentran los ficheros')\n",
    "parser.add_argument('-n', '--name',\n",
    "                    required=True,\n",
    "                    type=str,\n",
    "                    help='Nuevo nombre para los ficheros. Incluye {} donde quieras que vaya el número')\n",
    "args = parser.parse_args()\n",
    "print (args.path)\n",
    "print (args.name)"
   ]
  },
  {
   "cell_type": "markdown",
   "metadata": {},
   "source": [
    "Una vez que hemos visto que esto funciona, lo incorporamos a nuestro código:"
   ]
  },
  {
   "cell_type": "code",
   "execution_count": null,
   "metadata": {
    "collapsed": false
   },
   "outputs": [],
   "source": [
    "import os\n",
    "from math import log10, ceil\n",
    "import argparse\n",
    "\n",
    "parser = argparse.ArgumentParser(description='Renombrado de ficheros')\n",
    "parser.add_argument('-p', '--path',\n",
    "                    required=True,\n",
    "                    type=str,\n",
    "                    help='Ruta al directorio donde se encuentran los ficheros')\n",
    "parser.add_argument('-n', '--name',\n",
    "                    required=True,\n",
    "                    type=str,\n",
    "                    help='Nuevo nombre para los ficheros. Incluye {} donde quieras que vaya el número')\n",
    "args = parser.parse_args()\n",
    "\n",
    "files_path = args.path\n",
    "\n",
    "# Si el patrón del nombre proporcionado no contiene {}, se lo añadimos al final \n",
    "name_pattern = args.name if '{}' in args.name else args.name + '_{}'\n",
    "\n",
    "# Obtenemos el listado de ficheros en el directorio indicado\n",
    "files_in_dir = os.listdir(files_path)\n",
    "\n",
    "# Obtenemos el número de dígitos a partir del número de ficheros\n",
    "num_digits = ceil(log10(len(files_in_dir))) \n",
    "\n",
    "for count, file in enumerate(sorted(files_in_dir)):\n",
    "    file_name, file_ext = os.path.splitext(file)\n",
    "    \n",
    "    # Convertimos el contador al string precedido de los ceros necesarios\n",
    "    # Le añadimos 1 porque enumerate empieza a contar desde 0\n",
    "    filled_count = str(count + 1).rjust(num_digits, '0')\n",
    "    \n",
    "    # Construimos el nuevo nombre de fichero con la función format\n",
    "    new_file = name_pattern.format(filled_count) + file_ext   \n",
    "    \n",
    "    # Construimos la ruta completa al fichero\n",
    "    old_file_path = os.path.join(files_path, file)\n",
    "    # En este caso estamos dejando los ficheros en el mismo directorio, \n",
    "    # pero podríamos moverlos a otro\n",
    "    new_file_path = os.path.join(files_path, new_file)\n",
    "\n",
    "    # Renombramos\n",
    "    os.replace(old_file_path, new_file_path)"
   ]
  },
  {
   "cell_type": "markdown",
   "metadata": {},
   "source": [
    "### Sigamos aprendiendo\n",
    "Hay muchas otras mejoras que se pueden añadir al script... ¿te atreves a buscarlas por tu cuenta?\n",
    "+ Lo más importante es la gestión de errores: qué pasa, por ejemplo, si la ruta indicada no existe. **Investiga la sentencia `try... except...`**\n",
    "+ También podemos querer mover los ficheros a una nueva carpeta, con otro nombre. O renombrar los ficheros teniendo en cuenta su fecha de creación o de modificación. **Investiga el módulo `os` y todas las funcionalidades que tiene.**\n",
    "+ Estaría muy bien tener una interfaz gráfica que nos permitiera seleccionar la ruta a los ficheros. O incluso con un campo para escribir el nuevo nombre. **Investiga el módulo `tkinter`** (puede requerir instalar algún programa o paquete)"
   ]
  }
 ],
 "metadata": {
  "kernelspec": {
   "display_name": "Python 3",
   "language": "python",
   "name": "python3"
  },
  "language_info": {
   "codemirror_mode": {
    "name": "ipython",
    "version": 3
   },
   "file_extension": ".py",
   "mimetype": "text/x-python",
   "name": "python",
   "nbconvert_exporter": "python",
   "pygments_lexer": "ipython3",
   "version": "3.5.2"
  }
 },
 "nbformat": 4,
 "nbformat_minor": 1
}
