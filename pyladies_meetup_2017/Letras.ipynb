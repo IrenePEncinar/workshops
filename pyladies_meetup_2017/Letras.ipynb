{
 "cells": [
  {
   "cell_type": "markdown",
   "metadata": {},
   "source": [
    "## Abrir y leer fichero"
   ]
  },
  {
   "cell_type": "code",
   "execution_count": null,
   "metadata": {},
   "outputs": [],
   "source": [
    "with open(\"lemario-general-del-espanol.txt\") as f:\n",
    "    words = f.read()\n",
    "words"
   ]
  },
  {
   "cell_type": "code",
   "execution_count": null,
   "metadata": {},
   "outputs": [],
   "source": [
    "with open(\"lemario-general-del-espanol.txt\") as f:\n",
    "    words = f.readlines()\n",
    "words[:10]"
   ]
  },
  {
   "cell_type": "code",
   "execution_count": null,
   "metadata": {},
   "outputs": [],
   "source": [
    "with open(\"lemario-general-del-espanol.txt\") as f:\n",
    "    words = [word.strip() for word in f.readlines()]\n",
    "words[:10]"
   ]
  },
  {
   "cell_type": "markdown",
   "metadata": {},
   "source": [
    "## Solución con permutaciones"
   ]
  },
  {
   "cell_type": "code",
   "execution_count": null,
   "metadata": {},
   "outputs": [],
   "source": [
    "# Cargo datos\n",
    "from itertools import permutations\n",
    "\n",
    "letters = ['o','p','d','e','t','o','r']\n",
    "with open(\"lemario-general-del-espanol.txt\") as f:\n",
    "    words = [word.strip() for word in f.readlines()]"
   ]
  },
  {
   "cell_type": "code",
   "execution_count": null,
   "metadata": {},
   "outputs": [],
   "source": [
    "# Primera prueba\n",
    "words_7l = [p for p in permutations(letters, 7) if p in words]\n",
    "words_7l"
   ]
  },
  {
   "cell_type": "code",
   "execution_count": null,
   "metadata": {},
   "outputs": [],
   "source": [
    "# Join\n",
    "words_7l = [\"\".join(p) for p in permutations(letters, 7) if \"\".join(p) in words]\n",
    "words_7l"
   ]
  },
  {
   "cell_type": "code",
   "execution_count": null,
   "metadata": {},
   "outputs": [],
   "source": [
    "# Set para evitar repeticiones\n",
    "words_7l = set([\"\".join(p) for p in permutations(letters, 7) if \"\".join(p) in words])\n",
    "words_7l"
   ]
  },
  {
   "cell_type": "code",
   "execution_count": null,
   "metadata": {},
   "outputs": [],
   "source": [
    "# Generalización a palabras con menos letras\n",
    "possible_answers = {i : set([\"\".join(p) for p in permutations(letters, i) if \"\".join(p) in words]) for i in range(7, 2, -1)}\n",
    "possible_answers"
   ]
  },
  {
   "cell_type": "code",
   "execution_count": null,
   "metadata": {},
   "outputs": [],
   "source": [
    "# Words como set\n",
    "with open(\"lemario-general-del-espanol.txt\") as f:\n",
    "    words = set([word.strip() for word in f.readlines()])\n",
    "\n",
    "possible_answers = {i : set([\"\".join(p) for p in permutations(letters, i) if \"\".join(p) in words]) for i in range(7, 2, -1)}\n",
    "possible_answers"
   ]
  },
  {
   "cell_type": "markdown",
   "metadata": {},
   "source": [
    "## Solución con combinaciones"
   ]
  },
  {
   "cell_type": "code",
   "execution_count": null,
   "metadata": {},
   "outputs": [],
   "source": [
    "from itertools import combinations\n",
    "from collections import defaultdict\n",
    "\n",
    "letters = ['o','p','d','e','t','o','r']\n",
    "\n",
    "words = defaultdict(list)\n",
    "with open(\"lemario-general-del-espanol.txt\") as f:\n",
    "    for word in f.readlines():\n",
    "        words[\"\".join(sorted(word.strip()))].append(word.strip())\n",
    "\n",
    "possible_answers = {i : [words[\"\".join(sorted(c))] for c in combinations(letters, i) if \"\".join(sorted(c)) in words]\n",
    "                   for i in range(7, 2, -1)}\n",
    "possible_answers"
   ]
  },
  {
   "cell_type": "markdown",
   "metadata": {},
   "source": [
    "## Comparativa"
   ]
  },
  {
   "cell_type": "code",
   "execution_count": null,
   "metadata": {},
   "outputs": [],
   "source": [
    "from itertools import permutations, combinations\n",
    "from collections import defaultdict\n",
    "import time\n",
    "\n",
    "iterations = 1000\n",
    "\n",
    "letters = ['o','p','d','e','t','o','r']\n",
    "\n",
    "t1 = time.time()\n",
    "\n",
    "with open(\"lemario-general-del-espanol.txt\") as f:\n",
    "    words = set([word.strip() for word in f.readlines()])\n",
    "\n",
    "for i in range(0,iterations):\n",
    "    possible_answers = {i : set([\"\".join(p) for p in permutations(letters, i) if \"\".join(p) in words]) for i in range(7, 2, -1)}\n",
    "\n",
    "t2 = time.time()\n",
    "\n",
    "words = defaultdict(list)\n",
    "with open(\"lemario-general-del-espanol.txt\") as f:\n",
    "    for word in f.readlines():\n",
    "        words[\"\".join(sorted(word.strip()))].append(word.strip())\n",
    "\n",
    "for i in range(0,iterations):\n",
    "    possible_answers = {i : [words[\"\".join(sorted(c))] for c in combinations(letters, i) if \"\".join(sorted(c)) in words]\n",
    "                   for i in range(7, 2, -1)}\n",
    "\n",
    "t3 = time.time()\n",
    "\n",
    "print(\"Permutations time: {0}\".format(t2 - t1))\n",
    "print(\"Combinations time: {0}\".format(t3 - t2))"
   ]
  },
  {
   "cell_type": "code",
   "execution_count": null,
   "metadata": {},
   "outputs": [],
   "source": [
    "import matplotlib.pyplot as plt\n",
    "import numpy as np\n",
    "\n",
    "x = np.array([10,100,1000,10000,100000])\n",
    "p = np.array([0.13,0.67,5.75,54.56,537.6])\n",
    "c = np.array([0.35,0.38,0.5,1.89,16.07])\n",
    "\n",
    "plt.plot(x,p)\n",
    "plt.plot(x,c)\n",
    "plt.legend(['Permutaciones', 'Combinaciones'], loc='upper left')\n",
    "plt.show()"
   ]
  }
 ],
 "metadata": {
  "kernelspec": {
   "display_name": "Python 3",
   "language": "python",
   "name": "python3"
  },
  "language_info": {
   "codemirror_mode": {
    "name": "ipython",
    "version": 3
   },
   "file_extension": ".py",
   "mimetype": "text/x-python",
   "name": "python",
   "nbconvert_exporter": "python",
   "pygments_lexer": "ipython3",
   "version": "3.5.2"
  }
 },
 "nbformat": 4,
 "nbformat_minor": 2
}
